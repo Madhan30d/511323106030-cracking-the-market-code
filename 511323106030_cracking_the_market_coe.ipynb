{
  "nbformat": 4,
  "nbformat_minor": 0,
  "metadata": {
    "colab": {
      "provenance": [],
      "authorship_tag": "ABX9TyNlBJwHkzhrhNdPyfHHdbN+",
      "include_colab_link": true
    },
    "kernelspec": {
      "name": "python3",
      "display_name": "Python 3"
    },
    "language_info": {
      "name": "python"
    }
  },
  "cells": [
    {
      "cell_type": "markdown",
      "metadata": {
        "id": "view-in-github",
        "colab_type": "text"
      },
      "source": [
        "<a href=\"https://colab.research.google.com/github/Madhan30d/511323106030-cracking-the-market-code/blob/main/511323106030_cracking_the_market_coe.ipynb\" target=\"_parent\"><img src=\"https://colab.research.google.com/assets/colab-badge.svg\" alt=\"Open In Colab\"/></a>"
      ]
    },
    {
      "cell_type": "code",
      "execution_count": null,
      "metadata": {
        "id": "cFzqBgb3am3w"
      },
      "outputs": [],
      "source": [
        "import yfinance as yf\n",
        "import numpy as np\n",
        "import pandas as pd\n",
        "import matplotlib.pyplot as plt\n",
        "from sklearn.preprocessing import MinMaxScaler\n",
        "from tensorflow.keras.models import Sequential\n",
        "from tensorflow.keras.layers import LSTM, Dense\n",
        "\n",
        "# Step 1: Load Stock Data\n",
        "def load_data(stock_symbol='AAPL', start='2018-01-01', end='2024-12-31'):\n",
        "    df = yf.download(stock_symbol, start=start, end=end)\n",
        "    return df['Close'].values.reshape(-1, 1), df\n",
        "\n",
        "# Step 2: Preprocess Data\n",
        "def preprocess_data(data, sequence_length=60):\n",
        "    scaler = MinMaxScaler(feature_range=(0, 1))\n",
        "    scaled_data = scaler.fit_transform(data)\n",
        "\n",
        "    X, y = [], []\n",
        "    for i in range(sequence_length, len(scaled_data)):\n",
        "        X.append(scaled_data[i-sequence_length:i])\n",
        "        y.append(scaled_data[i])\n",
        "\n",
        "    return np.array(X), np.array(y), scaler\n",
        "\n",
        "# Step 3: Build LSTM Model\n",
        "def build_model(input_shape):\n",
        "    model = Sequential([\n",
        "        LSTM(50, return_sequences=True, input_shape=input_shape),\n",
        "        LSTM(50),\n",
        "        Dense(1)\n",
        "    ])\n",
        "    model.compile(optimizer='adam', loss='mean_squared_error')\n",
        "    return model\n",
        "\n",
        "# Step 4: Train and Predict\n",
        "def train_and_predict(stock_symbol='AAPL'):\n",
        "    raw_data, full_df = load_data(stock_symbol)\n",
        "    X, y, scaler = preprocess_data(raw_data)\n",
        "\n",
        "    split = int(len(X) * 0.8)\n",
        "    X_train, X_test = X[:split], X[split:]\n",
        "    y_train, y_test = y[:split], y[split:]\n",
        "\n",
        "    model = build_model((X_train.shape[1], 1))\n",
        "    model.fit(X_train, y_train, epochs=20, batch_size=32, verbose=1)\n",
        "\n",
        "    predictions = model.predict(X_test)\n",
        "    predictions = scaler.inverse_transform(predictions)\n",
        "    y_test_actual = scaler.inverse_transform(y_test.reshape(-1, 1))\n",
        "\n",
        "    # Plot Results\n",
        "    plt.figure(figsize=(14, 6))\n",
        "    plt.plot(y_test_actual, color='blue', label='Actual Stock Price')\n",
        "    plt.plot(predictions, color='red', label='Predicted Stock Price')\n",
        "    plt.title(f'{stock_symbol} Stock Price Prediction with LSTM')\n",
        "    plt.xlabel('Time')\n",
        "    plt.ylabel('Stock Price')\n",
        "    plt.legend()\n",
        "    plt.show()\n",
        "\n",
        "# Run it\n",
        "train_and_predict('AAPL')  # Change to any stock symbol like 'GOOGL', 'MSFT', etc.\n"
      ]
    }
  ]
}